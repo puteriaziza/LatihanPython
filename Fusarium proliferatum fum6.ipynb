{
 "cells": [
  {
   "cell_type": "code",
   "execution_count": 1,
   "id": "23b0e315-ae74-46f0-a295-8ce0f3b6c21b",
   "metadata": {},
   "outputs": [],
   "source": [
    "import Bio"
   ]
  },
  {
   "cell_type": "code",
   "execution_count": 2,
   "id": "01e7681e-8929-4893-aae1-3a3a047e173f",
   "metadata": {},
   "outputs": [
    {
     "name": "stdout",
     "output_type": "stream",
     "text": [
      "b'<?xml version=\"1.0\" encoding=\"UTF-8\" ?>\\n<!DOCTYPE eInfoResult PUBLIC \"-//NLM//DTD einfo 20190110//EN\" \"https://eutils.ncbi.nlm.nih.gov/eutils/dtd/20190110/einfo.dtd\">\\n<eInfoResult>\\n<DbList>\\n\\n\\t<DbName>pubmed</DbName>\\n\\t<DbName>protein</DbName>\\n\\t<DbName>nuccore</DbName>\\n\\t<DbName>ipg</DbName>\\n\\t<DbName>nucleotide</DbName>\\n\\t<DbName>structure</DbName>\\n\\t<DbName>genome</DbName>\\n\\t<DbName>annotinfo</DbName>\\n\\t<DbName>assembly</DbName>\\n\\t<DbName>bioproject</DbName>\\n\\t<DbName>biosample</DbName>\\n\\t<DbName>blastdbinfo</DbName>\\n\\t<DbName>books</DbName>\\n\\t<DbName>cdd</DbName>\\n\\t<DbName>clinvar</DbName>\\n\\t<DbName>gap</DbName>\\n\\t<DbName>gapplus</DbName>\\n\\t<DbName>grasp</DbName>\\n\\t<DbName>dbvar</DbName>\\n\\t<DbName>gene</DbName>\\n\\t<DbName>gds</DbName>\\n\\t<DbName>geoprofiles</DbName>\\n\\t<DbName>homologene</DbName>\\n\\t<DbName>medgen</DbName>\\n\\t<DbName>mesh</DbName>\\n\\t<DbName>ncbisearch</DbName>\\n\\t<DbName>nlmcatalog</DbName>\\n\\t<DbName>omim</DbName>\\n\\t<DbName>orgtrack</DbName>\\n\\t<DbName>pmc</DbName>\\n\\t<DbName>popset</DbName>\\n\\t<DbName>proteinclusters</DbName>\\n\\t<DbName>pcassay</DbName>\\n\\t<DbName>protfam</DbName>\\n\\t<DbName>biosystems</DbName>\\n\\t<DbName>pccompound</DbName>\\n\\t<DbName>pcsubstance</DbName>\\n\\t<DbName>seqannot</DbName>\\n\\t<DbName>snp</DbName>\\n\\t<DbName>sra</DbName>\\n\\t<DbName>taxonomy</DbName>\\n\\t<DbName>biocollections</DbName>\\n\\t<DbName>gtr</DbName>\\n</DbList>\\n\\n</eInfoResult>\\n'\n"
     ]
    }
   ],
   "source": [
    "from Bio import Entrez\n",
    "Entrez.email = \"localuser@localhost.localdomain\" \n",
    "\n",
    "#creating handle\n",
    "handle = Entrez.einfo() \n",
    "print(handle.read())\n",
    "handle.close()"
   ]
  },
  {
   "cell_type": "code",
   "execution_count": 3,
   "id": "3a760c8a-02de-4464-9188-4340b294e246",
   "metadata": {},
   "outputs": [
    {
     "name": "stdout",
     "output_type": "stream",
     "text": [
      "{'Count': '24017', 'RetMax': '20', 'RetStart': '0', 'IdList': ['2206605151', '2206605135', '2206605111', '2206605109', '2206411457', '2206296758', '2200966278', '2200966276', '2200966274', '2200966272', '2200966270', '2200966268', '2200966266', '2200966264', '2200966262', '2200966260', '2200966258', '2200966256', '2200966254', '2200966252'], 'TranslationSet': [{'From': 'Fusarium proliferatum', 'To': '\"Fusarium proliferatum\"[Organism] OR Fusarium proliferatum[All Fields]'}], 'TranslationStack': [{'Term': '\"Fusarium proliferatum\"[Organism]', 'Field': 'Organism', 'Count': '23642', 'Explode': 'Y'}, {'Term': 'Fusarium proliferatum[All Fields]', 'Field': 'All Fields', 'Count': '24017', 'Explode': 'N'}, 'OR', 'GROUP'], 'QueryTranslation': '\"Fusarium proliferatum\"[Organism] OR Fusarium proliferatum[All Fields]'}\n"
     ]
    }
   ],
   "source": [
    "\n",
    "handle = Entrez.esearch(db=\"nuccore\", term=\"Fusarium proliferatum\")\n",
    "record = Entrez.read(handle)\n",
    "print(record)\n",
    "handle.close()"
   ]
  },
  {
   "cell_type": "code",
   "execution_count": 4,
   "id": "8fb21ec9-bf45-4ede-8add-75f9883014a0",
   "metadata": {},
   "outputs": [
    {
     "name": "stdout",
     "output_type": "stream",
     "text": [
      "{'Count': '16', 'RetMax': '16', 'RetStart': '0', 'IdList': ['330368841', '582054852', '582054850', '582054848', '582054846', '582054838', '582054836', '582054832', '582054828', '582054822', '582054820', '582054814', '582054812', '582054808', '582054806', '566709487'], 'TranslationSet': [{'From': 'Fusarium proliferatum', 'To': '\"Fusarium proliferatum\"[Organism] OR Fusarium proliferatum[All Fields]'}], 'TranslationStack': [{'Term': '\"Fusarium proliferatum\"[Organism]', 'Field': 'Organism', 'Count': '23642', 'Explode': 'Y'}, {'Term': 'Fusarium proliferatum[All Fields]', 'Field': 'All Fields', 'Count': '24017', 'Explode': 'N'}, 'OR', 'GROUP', {'Term': 'fum6[All Fields]', 'Field': 'All Fields', 'Count': '172', 'Explode': 'N'}, 'AND', 'GROUP'], 'QueryTranslation': '(\"Fusarium proliferatum\"[Organism] OR Fusarium proliferatum[All Fields]) AND fum6[All Fields]'}\n"
     ]
    }
   ],
   "source": [
    "handle = Entrez.esearch(db=\"nuccore\", term=\"Fusarium proliferatum fum6\")\n",
    "record = Entrez.read(handle)\n",
    "print(record)\n",
    "handle.close()"
   ]
  },
  {
   "cell_type": "code",
   "execution_count": 5,
   "id": "43dbffe1-375a-48b1-8b40-1fa40f09512c",
   "metadata": {},
   "outputs": [
    {
     "name": "stdout",
     "output_type": "stream",
     "text": [
      "LOCUS       KF889206                 492 bp    DNA     linear   PLN 02-JUN-2014\n",
      "DEFINITION  Fusarium proliferatum isolate 84L oxygenase (fum6) gene, partial\n",
      "            cds.\n",
      "ACCESSION   KF889206\n",
      "VERSION     KF889206.1\n",
      "KEYWORDS    .\n",
      "SOURCE      Fusarium proliferatum (Gibberella intermedia)\n",
      "  ORGANISM  Fusarium proliferatum\n",
      "            Eukaryota; Fungi; Dikarya; Ascomycota; Pezizomycotina;\n",
      "            Sordariomycetes; Hypocreomycetidae; Hypocreales; Nectriaceae;\n",
      "            Fusarium; Fusarium fujikuroi species complex.\n",
      "REFERENCE   1  (bases 1 to 492)\n",
      "  AUTHORS   Dawidziuk,A., Koczyk,G., Popiel,D., Kaczmarek,J. and Busko,M.\n",
      "  TITLE     Molecular diagnostics on the toxigenic potential of Fusarium spp.\n",
      "            plant pathogens\n",
      "  JOURNAL   J. Appl. Microbiol. 116 (6), 1607-1620 (2014)\n",
      "   PUBMED   24575830\n",
      "REFERENCE   2  (bases 1 to 492)\n",
      "  AUTHORS   Dawidziuk,A., Popiel,D. and Koczyk,G.\n",
      "  TITLE     Direct Submission\n",
      "  JOURNAL   Submitted (19-NOV-2013) Institute of Plant Genetics, Polish Academy\n",
      "            of Sciences, Strzeszynska 34, Poznan, Wielkopolska 61-166, Poland\n",
      "COMMENT     ##Assembly-Data-START##\n",
      "            Sequencing Technology :: Sanger dideoxy sequencing\n",
      "            ##Assembly-Data-END##\n",
      "FEATURES             Location/Qualifiers\n",
      "     source          1..492\n",
      "                     /organism=\"Fusarium proliferatum\"\n",
      "                     /mol_type=\"genomic DNA\"\n",
      "                     /isolate=\"84L\"\n",
      "                     /db_xref=\"taxon:948311\"\n",
      "     gene            <1..>492\n",
      "                     /gene=\"fum6\"\n",
      "     mRNA            <1..>492\n",
      "                     /gene=\"fum6\"\n",
      "                     /product=\"oxygenase\"\n",
      "     CDS             <1..>492\n",
      "                     /gene=\"fum6\"\n",
      "                     /codon_start=1\n",
      "                     /product=\"oxygenase\"\n",
      "                     /protein_id=\"AHI43869.1\"\n",
      "                     /translation=\"HRIVTPLFGTMRIRGMFDDMKDICEQMCLRWARFGPDDPLNVCD\n",
      "                     NMTKLTLDTIALCTIDYRFNSFYRENGATHPFAAAVVDVMTESFTQSNLPDFVNNYVR\n",
      "                     FRAMAKYKRQAAELRRQTKELIAARRQNPVDRDDLLNAMLNAKDPKTGDGLSPESIVD\n",
      "                     NLLT\"\n",
      "ORIGIN      \n",
      "        1 catcggattg tcacgccttt gtttggaacc atgagaatca gaggcatgtt tgatgatatg\n",
      "       61 aaggatattt gcgagcagat gtgtctacga tgggcacgat tcgggccaga cgaccctctg\n",
      "      121 aatgtctgcg acaacatgac taagttaaca cttgacacta tcgccctctg cacgatagac\n",
      "      181 tatcgcttta acagcttcta tcgagaaaat ggagccacgc atccgtttgc agcggccgtg\n",
      "      241 gtagatgtca tgacagaatc cttcactcag agcaacctcc cagactttgt caacaactat\n",
      "      301 gtgcgttttc gggcaatggc caagtacaaa cgacaggctg ccgaactgcg tcgacaaaca\n",
      "      361 aaagagctga ttgctgctcg gcgacaaaat ccagttgata gagacgactt gctcaatgca\n",
      "      421 atgctgaacg ccaaggaccc caagacagga gacggtctca gtcctgagtc catcgtggat\n",
      "      481 aacctactca ca\n",
      "//\n",
      "\n",
      "\n"
     ]
    }
   ],
   "source": [
    "efetch_handle = Entrez.efetch(db=\"nuccore\", id=\"582054850\", rettype=\"gb\", retmode=\"text\")\n",
    "gbrecord = efetch_handle.read()\n",
    "print(gbrecord)\n",
    "efetch_handle.close()"
   ]
  },
  {
   "cell_type": "code",
   "execution_count": 11,
   "id": "6eec07fd-02da-4881-af33-9d86b28543ce",
   "metadata": {},
   "outputs": [
    {
     "name": "stdout",
     "output_type": "stream",
     "text": [
      "Genebank downloaded\n"
     ]
    }
   ],
   "source": [
    "from Bio import Entrez\n",
    "import os\n",
    "Entrez.email = \"localuser@localhost.localdomain\" \n",
    "\n",
    "filename = \"Fusarium proliferatum fum6.gbk\" \n",
    "\n",
    "#creating EFetch handle\n",
    "if not os.path.isfile(filename):\n",
    "\n",
    "    # Downloading file...\n",
    "    efetch_handle = Entrez.efetch(db=\"nuccore\", id=\"582054850\", rettype=\"gb\", retmode=\"text\")\n",
    "    output_file_handle = open(filename, \"w\")\n",
    "    output_file_handle.write(efetch_handle.read())\n",
    "    output_file_handle.close()\n",
    "    efetch_handle.close()\n",
    "\n",
    "    print(\"Genebank downloaded\")"
   ]
  },
  {
   "cell_type": "code",
   "execution_count": 12,
   "id": "5d4bce24-7948-4ef6-9279-c19caa01e8b3",
   "metadata": {},
   "outputs": [
    {
     "name": "stdout",
     "output_type": "stream",
     "text": [
      ">KF889206.1 Fusarium proliferatum isolate 84L oxygenase (fum6) gene, partial cds\n",
      "CATCGGATTGTCACGCCTTTGTTTGGAACCATGAGAATCAGAGGCATGTTTGATGATATGAAGGATATTT\n",
      "GCGAGCAGATGTGTCTACGATGGGCACGATTCGGGCCAGACGACCCTCTGAATGTCTGCGACAACATGAC\n",
      "TAAGTTAACACTTGACACTATCGCCCTCTGCACGATAGACTATCGCTTTAACAGCTTCTATCGAGAAAAT\n",
      "GGAGCCACGCATCCGTTTGCAGCGGCCGTGGTAGATGTCATGACAGAATCCTTCACTCAGAGCAACCTCC\n",
      "CAGACTTTGTCAACAACTATGTGCGTTTTCGGGCAATGGCCAAGTACAAACGACAGGCTGCCGAACTGCG\n",
      "TCGACAAACAAAAGAGCTGATTGCTGCTCGGCGACAAAATCCAGTTGATAGAGACGACTTGCTCAATGCA\n",
      "ATGCTGAACGCCAAGGACCCCAAGACAGGAGACGGTCTCAGTCCTGAGTCCATCGTGGATAACCTACTCA\n",
      "CA\n",
      "\n",
      "\n"
     ]
    }
   ],
   "source": [
    "efetch_handle = Entrez.efetch(db=\"nuccore\", id=\"582054850\", rettype=\"FASTA\", retmode=\"text\")\n",
    "gbrecord = efetch_handle.read()\n",
    "print(gbrecord)\n",
    "efetch_handle.close()"
   ]
  },
  {
   "cell_type": "code",
   "execution_count": 13,
   "id": "51099677-ec44-40d1-84b7-6fba73edc664",
   "metadata": {},
   "outputs": [
    {
     "name": "stdout",
     "output_type": "stream",
     "text": [
      "FASTA downloaded\n"
     ]
    }
   ],
   "source": [
    "from Bio import Entrez\n",
    "import os\n",
    "Entrez.email = \"localuser@localhost.localdomain\" \n",
    "\n",
    "filename = \"Fusarium proliferatum fum6.FASTA\" \n",
    "\n",
    "#creating EFetch handle\n",
    "if not os.path.isfile(filename):\n",
    "\n",
    "    # Downloading file...\n",
    "    efetch_handle = Entrez.efetch(db=\"nuccore\", id=\"582054850\", rettype=\"FASTA\", retmode=\"text\")\n",
    "    output_file_handle = open(filename, \"w\")\n",
    "    output_file_handle.write(efetch_handle.read())\n",
    "    output_file_handle.close()\n",
    "    efetch_handle.close()\n",
    "\n",
    "    print(\"FASTA downloaded\")"
   ]
  },
  {
   "cell_type": "code",
   "execution_count": 19,
   "id": "ab976e27-c885-48f6-ad3f-607cc6e2a7f8",
   "metadata": {},
   "outputs": [
    {
     "name": "stdout",
     "output_type": "stream",
     "text": [
      "{'Count': '98', 'RetMax': '20', 'RetStart': '0', 'IdList': ['2044093651', '2044093649', '2044093647', '2044093645', '2044093643', '2044093641', '2044093639', '2044093637', '1784818092', '1784818036', '1941827613', '1784818148', '1761173638', '1761173541', '985708584', '985708527', '985708472', '985708413', '985708357', '985708236'], 'TranslationSet': [{'From': 'Fusarium proliferatum', 'To': '\"Fusarium proliferatum\"[Organism] OR Fusarium proliferatum[All Fields]'}], 'TranslationStack': [{'Term': '\"Fusarium proliferatum\"[Organism]', 'Field': 'Organism', 'Count': '23642', 'Explode': 'Y'}, {'Term': 'Fusarium proliferatum[All Fields]', 'Field': 'All Fields', 'Count': '24017', 'Explode': 'N'}, 'OR', 'GROUP', {'Term': 'complete[All Fields]', 'Field': 'All Fields', 'Count': '49445571', 'Explode': 'N'}, 'AND', {'Term': 'cds[All Fields]', 'Field': 'All Fields', 'Count': '146335078', 'Explode': 'N'}, 'AND', 'GROUP'], 'QueryTranslation': '(\"Fusarium proliferatum\"[Organism] OR Fusarium proliferatum[All Fields]) AND complete[All Fields] AND cds[All Fields]'}\n"
     ]
    }
   ],
   "source": [
    "handle = Entrez.esearch(db=\"nuccore\", term=\"Fusarium proliferatum complete cds\")\n",
    "record = Entrez.read(handle)\n",
    "print(record)\n",
    "handle.close()"
   ]
  },
  {
   "cell_type": "code",
   "execution_count": 21,
   "id": "69311ebd-4234-47db-81a2-598c00955932",
   "metadata": {},
   "outputs": [
    {
     "name": "stdout",
     "output_type": "stream",
     "text": [
      "LOCUS       MN193893                3907 bp    DNA     linear   PLN 12-MAY-2021\n",
      "DEFINITION  Fusarium proliferatum strain NRRL 62905 DNA-directed RNA polymerase\n",
      "            II second largest subunit (RPB2) gene, complete cds.\n",
      "ACCESSION   MN193893\n",
      "VERSION     MN193893.1\n",
      "KEYWORDS    .\n",
      "SOURCE      Fusarium proliferatum (Gibberella intermedia)\n",
      "  ORGANISM  Fusarium proliferatum\n",
      "            Eukaryota; Fungi; Dikarya; Ascomycota; Pezizomycotina;\n",
      "            Sordariomycetes; Hypocreomycetidae; Hypocreales; Nectriaceae;\n",
      "            Fusarium; Fusarium fujikuroi species complex.\n",
      "REFERENCE   1  (bases 1 to 3907)\n",
      "  AUTHORS   Laraba,I., Kim,H.S., Proctor,R.H., Busman,M., O'Donnell,K.,\n",
      "            Felker,F.C., Aime,M.C., Koch,R.A. and Wurdack,K.J.\n",
      "  TITLE     Fusarium xyrophilum, sp. nov., a member of the Fusarium fujikuroi\n",
      "            species complex recovered from pseudoflowers on yellow-eyed grass\n",
      "            (Xyris spp.) from Guyana\n",
      "  JOURNAL   Mycologia 112 (1), 39-51 (2020)\n",
      "   PUBMED   31825746\n",
      "REFERENCE   2  (bases 1 to 3907)\n",
      "  AUTHORS   Laraba,I., Kim,H.-S., Proctor,R.H., Busman,M., O'Donnell,K.,\n",
      "            Felker,F.C., Aime,M.C., Koch,R.A. and Wurdack,K.J.\n",
      "  TITLE     Direct Submission\n",
      "  JOURNAL   Submitted (18-JUL-2019) Mycotoxin Prevention and Applied\n",
      "            Microbiology Research Unit, US Department of Agriculture, 1815 N.\n",
      "            University St., Peoria, IL 61604-3999, USA\n",
      "COMMENT     ##Assembly-Data-START##\n",
      "            Assembly Method       :: CLC Genomics Workbench v. 12\n",
      "            Sequencing Technology :: Illumina\n",
      "            ##Assembly-Data-END##\n",
      "FEATURES             Location/Qualifiers\n",
      "     source          1..3907\n",
      "                     /organism=\"Fusarium proliferatum\"\n",
      "                     /mol_type=\"genomic DNA\"\n",
      "                     /strain=\"NRRL 62905\"\n",
      "                     /db_xref=\"taxon:948311\"\n",
      "     gene            <1..>3907\n",
      "                     /gene=\"RPB2\"\n",
      "     mRNA            join(<1..2421,2468..3696,3745..>3907)\n",
      "                     /gene=\"RPB2\"\n",
      "                     /product=\"DNA-directed RNA polymerase II second largest\n",
      "                     subunit\"\n",
      "     CDS             join(1..2421,2468..3696,3745..3907)\n",
      "                     /gene=\"RPB2\"\n",
      "                     /codon_start=1\n",
      "                     /product=\"DNA-directed RNA polymerase II second largest\n",
      "                     subunit\"\n",
      "                     /protein_id=\"QGX47686.1\"\n",
      "                     /translation=\"MDDYENESDYDYGYDEGITPEDCWTVISSFFETKGLASQQTDSF\n",
      "                     DEFTQTMVQDLVNEYSTITLDQHNPPAPPGVNIALRRYEIKFGSVMVSRPSMSETDGT\n",
      "                     VTNLLPYECRDRNLTYAAPTYLKITKKVSVAVDKEIPLHEMDDEQQAEYKRTGENPTK\n",
      "                     LVWEVEEDAGSIKTEDEPSEMIFIGKMPIMVKSKICHLSSHSDEDLFMLNECPYDQGG\n",
      "                     YFVINGSEKVLIAQERSAANIVQVFKKAQPSPFTYTAEIRSALEKGSRLISSLTMKLY\n",
      "                     GKGDSARGGFGQTIQATLPFVKADLPVAIVFRALGVVSDEDILNHICYDRNDSQMLEM\n",
      "                     LRPCIEEAFCVQDREVALDFIGKRGNRDQASLGREKRVRVAKDILQKETLPHISQSEG\n",
      "                     SETRKAFFLGYMVHKLLQCALGRREPDDRDHFGKKRLDLAGPLLAKLFRGIIRRINTE\n",
      "                     LSNYLKRCVESNRNFNLTVAIKPSTLSNGLKYSLATGNWGDQKKAASSTAGVSQVLNR\n",
      "                     YTFASTLSHLRRTNTPIGRDGKLAKPRQLHNTHWGLVCPAETPEGQACGLVKNLSLMC\n",
      "                     YVSVGSPADPLIEFMINRGMEVVEEYEPTRYPHATKIFVNGSWVGVHADPKHLVNQVL\n",
      "                     DTRRKSYVQFEVSLVRDIRDREFKIFSDAGRVMRPVFTVHQEDDYENNITKGQLVLTK\n",
      "                     EHVNRLAQEQAEPPANPADKFGWDGLIREGAVEYLDAEEEETAMICMTPEDLELYREQ\n",
      "                     KNDEATLTEEEKRAKAEAEKREQEEDRNKRLKTKVNPTTHMYTHCEIHPSMILGICAS\n",
      "                     IIPFPDHNQSPRNTYQSAMGKQAMGFFLTNYSRRMDTMANILYYPQKPLATTRSMEFL\n",
      "                     KFRELPAGQNAIVAIACYSGYNQEDSVIMNQSSIDRGLFRSLFFRSYSDQEKKVGLNY\n",
      "                     TEIFEKPFQQTTLRMKHGTYDKLDEDGIVAPGVRVSGEDIIIGKTAPIDQENQDLGTR\n",
      "                     TQSHQRRDISTPLRSTENGIVDQVILTVNADNVKYVKVRVRTTKIPQIGDKFASRHGQ\n",
      "                     KGTIGVTYRQEDMPFSREGLTPDIIINPHAIPSRMTIAHLIECLLSKVSTLEGMEGDA\n",
      "                     TPFTDVTVDSVSELLRKHGYQSRGFEVMYNGHTGRKLRAQVFFGPTYYQRLRHMVDDK\n",
      "                     IHARARGPVQIMTRQPVEGRARDGGLRFGEMERDCMIAHGAAAFLKERLFEVSDAFRV\n",
      "                     HVCEICGLMTPIANLSKQSFECRPCKNKTKIAQIHIPYAAKLLFQELQAMNIAARMFT\n",
      "                     NRSGVSNR\"\n",
      "ORIGIN      \n",
      "        1 atggacgact acgagaacga atccgactac gattatggct acgacgaggg tatcaccccc\n",
      "       61 gaggactgct ggaccgtaat ctcgtccttc ttcgagacaa agggtcttgc atcgcaacag\n",
      "      121 accgactctt ttgacgagtt cacccagaca atggtgcagg atctcgtcaa cgagtactcc\n",
      "      181 acaatcaccc tcgaccagca caaccctccc gcgccccctg gcgtcaacat tgctttgcga\n",
      "      241 cgatatgaaa tcaagttcgg gagcgtcatg gtgtcacgtc cctctatgag cgagactgat\n",
      "      301 ggaactgtga ctaacctcct accttatgaa tgtcgtgacc gcaacctcac ctacgccgcg\n",
      "      361 ccgacctacc tcaagatcac caagaaagtc tccgtcgcag tcgacaagga gatccctctg\n",
      "      421 cacgaaatgg acgacgagca gcaggccgag tacaagcgaa ccggtgaaaa ccccacaaag\n",
      "      481 ctggtatggg aagttgagga ggatgctgga agcataaaaa ctgaggatga gccttcggag\n",
      "      541 atgatcttta tcggaaagat gcccatcatg gtcaagtcca agatttgcca tctgagcagc\n",
      "      601 cattccgacg aagacctctt catgctcaat gaatgtcctt atgatcaggg cggttacttc\n",
      "      661 gttatcaacg gtagtgagaa ggtcctgatc gcccaggaac gttctgcggc caacatcgtt\n",
      "      721 caagtcttca agaaggccca gcctagtcct ttcacctaca ctgctgaaat ccgcagtgct\n",
      "      781 cttgagaagg gttctcgtct tatctcgagt cttacgatga agctctacgg caagggagat\n",
      "      841 tctgcgcgcg gtggctttgg tcagactatc caggctaccc tgccttttgt caaggcagat\n",
      "      901 cttcctgtcg ccatcgtctt ccgagctctt ggtgttgtgt ctgatgagga tattctgaac\n",
      "      961 cacatttgct acgaccgcaa cgatagccag atgctggaaa tgcttcgccc ttgtatcgag\n",
      "     1021 gaggctttct gtgtccagga ccgagaagtt gctcttgact ttattggaaa gcgtggaaac\n",
      "     1081 agagaccagg ctagtctggg tcgtgagaag cgtgttcgtg ttgcaaagga tattctccaa\n",
      "     1141 aaagagaccc tgccccatat ctcacaatca gagggtagcg agacacgcaa ggctttcttc\n",
      "     1201 ttgggctaca tggtgcacaa gcttctgcag tgtgctcttg gacgtcgtga gcccgatgat\n",
      "     1261 cgtgatcact tcggtaagaa gcgacttgat ttggccggtc ctttactggc gaagctcttc\n",
      "     1321 cgcggtatta ttcgaaggat aaacactgaa ctctccaact acctcaagcg atgtgttgag\n",
      "     1381 agcaaccgaa acttcaacct gactgtcgct atcaagccat caacgctttc caacggcctc\n",
      "     1441 aagtactctt tggccactgg taactggggt gatcagaaga aggcagcaag ctcgacagct\n",
      "     1501 ggtgtctctc aggtgttgaa cagatatacc ttcgcctcta ctctttcaca tttgcgccga\n",
      "     1561 accaatactc ccattggacg agatggtaaa ttggccaagc ctcgacagct tcacaatact\n",
      "     1621 cactggggtt tggtgtgtcc cgccgaaacg cctgagggtc aagcttgtgg tctggtcaaa\n",
      "     1681 aacttgtctc tgatgtgtta tgtcagtgtc ggctctccag ccgatcctct cattgaattc\n",
      "     1741 atgatcaaca gaggtatgga agtcgttgag gagtacgagc ccacaagata tccccacgct\n",
      "     1801 acaaagattt tcgtcaacgg tagctgggtt ggtgttcacg ccgaccccaa gcatctcgtg\n",
      "     1861 aatcaggttt tggacacaag acgaaagtcg tatgtccagt tcgaagtatc acttgttcgt\n",
      "     1921 gatattcgag accgtgaatt caagatcttt tcagatgctg gtcgtgtcat gagacctgtc\n",
      "     1981 ttcacagtcc atcaggagga tgactacgag aacaacatca ccaagggaca actagtgttg\n",
      "     2041 acaaaggaac atgtcaacag gctagcgcaa gagcaggcag agccacctgc caaccccgct\n",
      "     2101 gacaagtttg gatgggatgg cttgattcgc gaaggagctg tcgagtatct cgacgccgag\n",
      "     2161 gaagaagaga cagccatgat ttgcatgacg ccagaggatc tcgaacttta ccgtgagcaa\n",
      "     2221 aagaatgatg aagctacact cacggaagag gagaaacggg ccaaggctga ggcagagaag\n",
      "     2281 agggaacagg aggaggaccg caacaagcga ttgaagacaa aggtcaaccc cacaactcac\n",
      "     2341 atgtacacac attgtgagat tcatcccagt atgattctcg gtatctgtgc cagtatcatt\n",
      "     2401 cctttccccg atcacaacca ggtatgtatt tcctatgacc atgcatggac tcaactaaca\n",
      "     2461 gcaatagtct cctcgtaaca cctaccaatc tgctatgggt aaacaagcca tgggtttctt\n",
      "     2521 cttgacaaat tactctcgcc gcatggacac catggccaac attctatact accctcaaaa\n",
      "     2581 gcctctcgcc actacccgat ccatggagtt cctcaagttc cgtgaattgc cagctggcca\n",
      "     2641 aaatgccatt gtcgcaattg catgctactc aggttataac caggaagatt ccgtcattat\n",
      "     2701 gaaccagagt agtatcgatc gaggtctgtt ccgaagtctg ttcttccgat cgtactcaga\n",
      "     2761 tcaagagaag aaggtcggtc tcaactacac tgagatcttc gagaagcctt tccagcagac\n",
      "     2821 aacactccga atgaagcatg gaacatacga caaacttgat gaagatggta tcgtggcgcc\n",
      "     2881 tggtgtccgt gtgtcaggtg aggatatcat tatcggcaag actgcaccca tcgaccaaga\n",
      "     2941 aaaccaagac cttggcacaa gaactcaatc gcatcagcgt cgtgatatct cgacaccact\n",
      "     3001 gcgaagtact gagaacggta tcgttgatca ggtcattctg acagtcaacg ccgacaacgt\n",
      "     3061 caagtacgtc aaggttcgag tacgaaccac caagattcct caaattggtg acaagtttgc\n",
      "     3121 ttctcgtcac ggtcaaaagg gtacaatcgg tgttacatat cgacaggagg atatgccttt\n",
      "     3181 cagccgagaa ggtctcactc ccgatatcat tatcaaccct cacgccattc catcgcgaat\n",
      "     3241 gacaattgcc catttgattg agtgtcttct tagcaaggtt tcaacgctgg aaggtatgga\n",
      "     3301 gggtgatgct acaccgttca ctgatgtcac agtcgattca gtctctgaac ttctgaggaa\n",
      "     3361 gcacggttac caatctcgag gtttcgaggt catgtacaat ggtcacacgg gacgaaagct\n",
      "     3421 ccgtgcccag gttttcttcg gacctaccta ctaccagcgt cttcgtcaca tggtagacga\n",
      "     3481 caagattcac gctcgtgctc gtggtccagt ccagatcatg acccgacagc ctgttgaggg\n",
      "     3541 tcgtgctcgt gatggtggtc tccgattcgg agaaatggaa cgtgattgta tgattgctca\n",
      "     3601 tggtgccgct gctttcctga aggagcgtct gtttgaggtg tcggatgctt tccgtgtcca\n",
      "     3661 cgtctgcgag atttgtggac tcatgacacc aattgcgtaa gttatcccta taaacactga\n",
      "     3721 tgaataagag ctaacatgtt tcagaaacct ttccaaacag tcatttgaat gccgaccttg\n",
      "     3781 caagaacaag accaagatcg cgcaaatcca tattccttac gctgccaagc tgctcttcca\n",
      "     3841 ggagctgcag gccatgaaca tcgccgcaag aatgtttacc aacaggtctg gagtttcaaa\n",
      "     3901 ccgataa\n",
      "//\n",
      "\n",
      "\n"
     ]
    }
   ],
   "source": [
    "efetch_handle = Entrez.efetch(db=\"nuccore\", id=\"1784818092\", rettype=\"gb\", retmode=\"text\")\n",
    "gbrecord = efetch_handle.read()\n",
    "print(gbrecord)\n",
    "efetch_handle.close()"
   ]
  },
  {
   "cell_type": "code",
   "execution_count": 22,
   "id": "d96c9139-2a07-454b-ad02-735c7f06028e",
   "metadata": {},
   "outputs": [
    {
     "name": "stdout",
     "output_type": "stream",
     "text": [
      "Genebank downloaded\n"
     ]
    }
   ],
   "source": [
    "from Bio import Entrez\n",
    "import os\n",
    "Entrez.email = \"localuser@localhost.localdomain\" \n",
    "\n",
    "filename = \"Fusarium proliferatum cds.gbk\" \n",
    "\n",
    "#creating EFetch handle\n",
    "if not os.path.isfile(filename):\n",
    "\n",
    "    # Downloading file...\n",
    "    efetch_handle = Entrez.efetch(db=\"nuccore\", id=\"1784818092\", rettype=\"gb\", retmode=\"text\")\n",
    "    output_file_handle = open(filename, \"w\")\n",
    "    output_file_handle.write(efetch_handle.read())\n",
    "    output_file_handle.close()\n",
    "    efetch_handle.close()\n",
    "\n",
    "    print(\"Genebank downloaded\")"
   ]
  },
  {
   "cell_type": "code",
   "execution_count": 23,
   "id": "72c47c3a-9517-44c5-9e7a-ba2c47fdd773",
   "metadata": {},
   "outputs": [
    {
     "name": "stdout",
     "output_type": "stream",
     "text": [
      ">fum6|Fusarium proliferatum strain NRRL 62905 DNA-directed RNA polymerase II second largest subunit (RPB2) gene, complete cds\n",
      "CATCGGATTGTCACGCCTTTGTTTGGAACCATGAGAATCAGAGGCATGTTTGATGATATGAAGGATATTTGCGAGCAGATGTGTCTACGATGGGCACGATTCGGGCCAGACGACCCTCTGAATGTCTGCGACAACATGACTAAGTTAACACTTGACACTATCGCCCTCTGCACGATAGACTATCGCTTTAACAGCTTCTATCGAGAAAATGGAGCCACGCATCCGTTTGCAGCGGCCGTGGTAGATGTCATGACAGAATCCTTCACTCAGAGCAACCTCCCAGACTTTGTCAACAACTATGTGCGTTTTCGGGCAATGGCCAAGTACAAACGACAGGCTGCCGAACTGCGTCGACAAACAAAAGAGCTGATTGCTGCTCGGCGACAAAATCCAGTTGATAGAGACGACTTGCTCAATGCAATGCTGAACGCCAAGGACCCCAAGACAGGAGACGGTCTCAGTCCTGAGTCCATCGTGGATAACCTACTCACA\n"
     ]
    }
   ],
   "source": [
    "from Bio import SeqIO\n",
    "GoI = \"fum6\"\n",
    "\n",
    "for genome in SeqIO.parse(\"Fusarium proliferatum cds.gbk\",\"genbank\"):\n",
    "    for gene in genome.features:\n",
    "        if gene.type != \"CDS\":\n",
    "            continue\n",
    "        if \"gene\" not in gene.qualifiers:\n",
    "            continue\n",
    "        if GoI not in gene.qualifiers[\"gene\"][0]:\n",
    "            continue\n",
    "        gene_seq = gene.extract(genome.seq)\n",
    "GoI_fasta = \">%s|%s\\n%s\" % (GoI, genome.description, gene_seq)\n",
    "print(GoI_fasta)"
   ]
  },
  {
   "cell_type": "code",
   "execution_count": 26,
   "id": "47d74949-aead-48db-888c-6a7c82771c6a",
   "metadata": {},
   "outputs": [
    {
     "name": "stdout",
     "output_type": "stream",
     "text": [
      ">fum6|Fusarium proliferatum strain NRRL 62905 DNA-directed RNA polymerase II second largest subunit (RPB2) gene, complete cds\n",
      "CATCGGATTGTCACGCCTTTGTTTGGAACCATGAGAATCAGAGGCATGTTTGATGATATGAAGGATATTTGCGAGCAGATGTGTCTACGATGGGCACGATTCGGGCCAGACGACCCTCTGAATGTCTGCGACAACATGACTAAGTTAACACTTGACACTATCGCCCTCTGCACGATAGACTATCGCTTTAACAGCTTCTATCGAGAAAATGGAGCCACGCATCCGTTTGCAGCGGCCGTGGTAGATGTCATGACAGAATCCTTCACTCAGAGCAACCTCCCAGACTTTGTCAACAACTATGTGCGTTTTCGGGCAATGGCCAAGTACAAACGACAGGCTGCCGAACTGCGTCGACAAACAAAAGAGCTGATTGCTGCTCGGCGACAAAATCCAGTTGATAGAGACGACTTGCTCAATGCAATGCTGAACGCCAAGGACCCCAAGACAGGAGACGGTCTCAGTCCTGAGTCCATCGTGGATAACCTACTCACA\n"
     ]
    }
   ],
   "source": [
    "from Bio import SeqIO\n",
    "GoI = \"fum6\"\n",
    "\n",
    "for genome in SeqIO.parse(\"Fusarium proliferatum cds.gbk\",\"genbank\"):\n",
    "    for gene in genome.features:\n",
    "        if gene.type != \"CDS\":\n",
    "            continue\n",
    "        if \"gene\" not in gene.qualifiers:\n",
    "            continue\n",
    "        if GoI not in gene.qualifiers[\"gene\"][0]:\n",
    "            continue\n",
    "        gene_seq = gene.extract(genome.seq)\n",
    "GoI_fasta = \">%s|%s\\n%s\" % (GoI, genome.description, gene_seq)\n",
    "print(GoI_fasta)\n",
    "with open(\"GoI_fasta.fasta\", \"w\") as f:\n",
    "    f.write(GoI_fasta)"
   ]
  },
  {
   "cell_type": "code",
   "execution_count": null,
   "id": "5c591c2e-990a-4e52-bc1f-5d29d903e1d5",
   "metadata": {},
   "outputs": [],
   "source": []
  }
 ],
 "metadata": {
  "kernelspec": {
   "display_name": "Python 3 (ipykernel)",
   "language": "python",
   "name": "python3"
  },
  "language_info": {
   "codemirror_mode": {
    "name": "ipython",
    "version": 3
   },
   "file_extension": ".py",
   "mimetype": "text/x-python",
   "name": "python",
   "nbconvert_exporter": "python",
   "pygments_lexer": "ipython3",
   "version": "3.9.7"
  }
 },
 "nbformat": 4,
 "nbformat_minor": 5
}
